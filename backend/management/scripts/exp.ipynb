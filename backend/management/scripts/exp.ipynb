{
 "cells": [
  {
   "cell_type": "code",
   "execution_count": null,
   "id": "64b893fa",
   "metadata": {},
   "outputs": [],
   "source": [
    "from PyPDF2 import PdfReader, PdfWriter\n",
    "\n",
    "def extract_pages(input_path, output_path, page_range):\n",
    "    \"\"\"\n",
    "    input_path: path to the original PDF\n",
    "    output_path: path to save the new PDF\n",
    "    page_range: tuple like (start, end) → 1-indexed inclusive\n",
    "    \"\"\"\n",
    "    reader = PdfReader(input_path)\n",
    "    writer = PdfWriter()\n",
    "\n",
    "    start, end = page_range\n",
    "    for i in range(start - 1, end):\n",
    "        writer.add_page(reader.pages[i])\n",
    "\n",
    "    with open(output_path, \"wb\") as f:\n",
    "        writer.write(f)\n",
    "\n",
    "    print(f\"✅ Saved pages {start}-{end} to {output_path}\")\n",
    "\n",
    "# Example usage\n",
    "extract_pages(\"/Users/shafique.khan@diconium.com/Library/CloudStorage/OneDrive-diconiumGmbH/Learning/SiratRevival/scholar_data/Allama_Iqbal/1985-Ka-Iqbaliyati-Adab.pdf\", \"/Users/shafique.khan@diconium.com/Library/CloudStorage/OneDrive-diconiumGmbH/Learning/SiratRevival/scholar_data/Allama_Iqbal/extracted_pages3.pdf\", (45, 50))\n"
   ]
  },
  {
   "cell_type": "code",
   "execution_count": null,
   "id": "72ebdc31",
   "metadata": {},
   "outputs": [
    {
     "name": "stdout",
     "output_type": "stream",
     "text": [
      "Dublin, July 30, 2025 (GLOBE NEWSWIRE) -- The \"Europe Halal Food Market Size and Share Analysis - Growth Trends and Forecast Report 2025-2033\" report has been added to ResearchAndMarkets.com's offeri… [+10734 chars]\n",
      "[]\n"
     ]
    }
   ],
   "source": [
    "from datetime import datetime\n",
    "import requests\n",
    "api_key = \"88888888\"\n",
    "url = f\"https://newsapi.org/v2/everything?q=Islamic&quran&language=en&sortBy=publishedAt&apiKey={api_key}\"\n",
    "try:\n",
    "    response = requests.get(url)\n",
    "    if response.status_code == 200:\n",
    "        articles = response.json().get(\"articles\", [])\n",
    "        for a in articles:\n",
    "            # try:\n",
    "            #     date_published = datetime.strptime(a[\"publishedAt\"], \"%Y-%m-%dT%H:%M:%SZ\")\n",
    "            # except Exception:\n",
    "            #     date_published = datetime.utcnow()\n",
    "\n",
    "            # news_article = (\n",
    "            #     a[\"title\"],\n",
    "            #     a[\"url\"],\n",
    "            #     a[\"source\"][\"name\"],\n",
    "            #     date_published,\n",
    "            # )\n",
    "            # print(a['source'].keys())\n",
    "            print(a['content'])\n",
    "            break\n",
    "            # print(a)\n",
    "            # result.append(a['source']['id'])\n",
    "            \n",
    "    \n",
    "    print(result)\n",
    "except Exception as e:\n",
    "    print(e)"
   ]
  },
  {
   "cell_type": "code",
   "execution_count": null,
   "id": "51ad01d1",
   "metadata": {},
   "outputs": [],
   "source": [
    "import easyocr\n",
    "reader = easyocr.Reader([\"ar\",\"fa\",\"ur\",\"ug\",\"en\"])\n",
    "result = reader.readtext('/Users/shafique.khan@diconium.com/Library/CloudStorage/OneDrive-diconiumGmbH/Learning/SiratRevival/scholar_data/Allama_Iqbal/extracted_pages2.pdf', detail=0)\n",
    "print(\"\\n\".join(result))\n"
   ]
  },
  {
   "cell_type": "code",
   "execution_count": null,
   "id": "d0264953",
   "metadata": {},
   "outputs": [],
   "source": [
    "from pdf2image import convert_from_path\n",
    "import pytesseract\n",
    "\n",
    "images = convert_from_path(\"/Users/shafique.khan@diconium.com/Library/CloudStorage/OneDrive-diconiumGmbH/Learning/SiratRevival/scholar_data/Allama_Iqbal/extracted_pages2.pdf\")\n",
    "for i, img in enumerate(images):\n",
    "    text = pytesseract.image_to_string(img, lang='eng+urd+ara+hin+deu+spa+por+chi_sim+jpn')\n",
    "    with open(f\"text_page_{i+1}.txt\", \"w\", encoding=\"utf-8\") as f:\n",
    "        f.write(text)\n"
   ]
  },
  {
   "cell_type": "code",
   "execution_count": null,
   "id": "d4e74f56",
   "metadata": {},
   "outputs": [],
   "source": [
    "import easyocr\n",
    "from pdf2image import convert_from_path\n",
    "import os\n",
    "\n",
    "# Path to your PDF\n",
    "pdf_path = \"/Users/shafique.khan@diconium.com/Library/CloudStorage/OneDrive-diconiumGmbH/Learning/SiratRevival/scholar_data/Allama_Iqbal/extracted_pages3.pdf\"\n",
    "\n",
    "# Folder to save images\n",
    "output_folder = \"pdf_pages\"\n",
    "os.makedirs(output_folder, exist_ok=True)\n",
    "\n",
    "# Convert PDF to images\n",
    "images = convert_from_path(pdf_path)\n",
    "\n",
    "# Initialize EasyOCR reader\n",
    "reader = easyocr.Reader([\"fa\",\"ur\",\"ug\",\"en\"],gpu=True)\n",
    "\n",
    "# Process each page image\n",
    "for i, img in enumerate(images):\n",
    "    img_path = os.path.join(output_folder, f\"page_{i+1}.png\")\n",
    "    img.save(img_path, \"PNG\")\n",
    "    \n",
    "    print(f\"Processing page {i+1}...\")\n",
    "    result = reader.readtext(img_path, detail=0)\n",
    "    \n",
    "    with open(f\"ocr_page_{i+10}.txt\", \"w\", encoding=\"utf-8\") as f:\n",
    "        f.write(\"\\n\".join(result))\n"
   ]
  },
  {
   "cell_type": "code",
   "execution_count": null,
   "id": "78ad2d94",
   "metadata": {},
   "outputs": [],
   "source": [
    "from selenium import webdriver\n",
    "from selenium.webdriver.chrome.options import Options\n",
    "from bs4 import BeautifulSoup\n",
    "import time\n",
    "\n",
    "options = Options()\n",
    "options.add_argument(\"--headless\")\n",
    "\n",
    "driver = webdriver.Chrome(options=options)\n",
    "driver.get(\"https://archive.org/search?query=Mufti+Taqi+Usmani\")\n",
    "\n",
    "time.sleep(5)  # wait for JS to load content\n",
    "\n",
    "html = driver.page_source\n",
    "soup = BeautifulSoup(html, \"html.parser\")\n",
    "\n",
    "articles = soup.find_all(\"article\", class_=\"cell-container\")\n",
    "print(articles)\n",
    "for article in articles:\n",
    "    # parse the article content here\n",
    "    print(article.text)\n",
    "\n",
    "driver.quit()\n"
   ]
  },
  {
   "cell_type": "code",
   "execution_count": null,
   "id": "8c5bb720",
   "metadata": {},
   "outputs": [],
   "source": [
    "import requests\n",
    "\n",
    "url = \"https://archive.org/advancedsearch.php\"\n",
    "params = {\n",
    "    \"q\": \"creator:Mufti Taqi Usmani\",\n",
    "    \"fl[]\": [\"identifier\", \"title\", \"description\", \"date\"],\n",
    "    \"output\": \"json\",\n",
    "    \"rows\": 50,\n",
    "    \"page\": 1\n",
    "}\n",
    "\n",
    "response = requests.get(url, params=params)\n",
    "data = response.json()\n",
    "\n",
    "print(data)\n",
    "\n",
    "docs = data.get(\"response\", {}).get(\"docs\", [])\n",
    "for doc in docs:\n",
    "    print(f\"Title: {doc.get('title')}\")\n",
    "    print(f\"Identifier: {doc.get('identifier')}\")\n",
    "    print(f\"Date: {doc.get('date')}\")\n",
    "    print(f\"Description: {doc.get('description')}\\n\")\n"
   ]
  },
  {
   "cell_type": "code",
   "execution_count": null,
   "id": "00b32fc2",
   "metadata": {},
   "outputs": [],
   "source": []
  },
  {
   "cell_type": "code",
   "execution_count": null,
   "id": "da6ecef7",
   "metadata": {},
   "outputs": [],
   "source": [
    "import pandas as pd"
   ]
  },
  {
   "cell_type": "code",
   "execution_count": null,
   "id": "70c34654",
   "metadata": {},
   "outputs": [],
   "source": [
    "df = pd.read_json(\"quran_en.json\")"
   ]
  },
  {
   "cell_type": "code",
   "execution_count": null,
   "id": "4e3e88b2",
   "metadata": {},
   "outputs": [],
   "source": [
    "with pd.option_context('display.max_colwidth', None):\n",
    "    print(df.iloc[0])"
   ]
  },
  {
   "cell_type": "code",
   "execution_count": null,
   "id": "9bdeb19d",
   "metadata": {},
   "outputs": [],
   "source": [
    "df.columns"
   ]
  },
  {
   "cell_type": "code",
   "execution_count": null,
   "id": "51f0588a",
   "metadata": {},
   "outputs": [],
   "source": [
    "df.head(1)"
   ]
  },
  {
   "cell_type": "code",
   "execution_count": null,
   "id": "0d326338",
   "metadata": {},
   "outputs": [],
   "source": [
    "pd.set_option('display.max_rows', None)    # Show all rows\n",
    "pd.set_option('display.max_columns', None) # Show all columns"
   ]
  },
  {
   "cell_type": "code",
   "execution_count": null,
   "id": "bb0ea644",
   "metadata": {},
   "outputs": [],
   "source": [
    "with pd.option_context('display.max_seq_items', None):\n",
    "    print(df.head(1))"
   ]
  },
  {
   "cell_type": "code",
   "execution_count": null,
   "id": "e88c8932",
   "metadata": {},
   "outputs": [],
   "source": [
    "df.head()"
   ]
  },
  {
   "cell_type": "code",
   "execution_count": null,
   "id": "0b133524",
   "metadata": {},
   "outputs": [],
   "source": [
    "from IPython.display import display, HTML\n",
    "display(HTML(df.to_html(max_rows=None, max_cols=None)))"
   ]
  },
  {
   "cell_type": "code",
   "execution_count": null,
   "id": "9d882164",
   "metadata": {},
   "outputs": [],
   "source": []
  }
 ],
 "metadata": {
  "kernelspec": {
   "display_name": "pythonLearning",
   "language": "python",
   "name": "python3"
  },
  "language_info": {
   "codemirror_mode": {
    "name": "ipython",
    "version": 3
   },
   "file_extension": ".py",
   "mimetype": "text/x-python",
   "name": "python",
   "nbconvert_exporter": "python",
   "pygments_lexer": "ipython3",
   "version": "3.10.4"
  }
 },
 "nbformat": 4,
 "nbformat_minor": 5
}
