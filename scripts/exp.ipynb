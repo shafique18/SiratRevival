{
 "cells": [
  {
   "cell_type": "code",
   "execution_count": 8,
   "id": "64b893fa",
   "metadata": {},
   "outputs": [
    {
     "name": "stdout",
     "output_type": "stream",
     "text": [
      "✅ Saved pages 45-50 to /Users/shafique.khan@diconium.com/Library/CloudStorage/OneDrive-diconiumGmbH/Learning/SiratRevival/scholar_data/Allama_Iqbal/extracted_pages3.pdf\n"
     ]
    }
   ],
   "source": [
    "from PyPDF2 import PdfReader, PdfWriter\n",
    "\n",
    "def extract_pages(input_path, output_path, page_range):\n",
    "    \"\"\"\n",
    "    input_path: path to the original PDF\n",
    "    output_path: path to save the new PDF\n",
    "    page_range: tuple like (start, end) → 1-indexed inclusive\n",
    "    \"\"\"\n",
    "    reader = PdfReader(input_path)\n",
    "    writer = PdfWriter()\n",
    "\n",
    "    start, end = page_range\n",
    "    for i in range(start - 1, end):\n",
    "        writer.add_page(reader.pages[i])\n",
    "\n",
    "    with open(output_path, \"wb\") as f:\n",
    "        writer.write(f)\n",
    "\n",
    "    print(f\"✅ Saved pages {start}-{end} to {output_path}\")\n",
    "\n",
    "# Example usage\n",
    "extract_pages(\"/Users/shafique.khan@diconium.com/Library/CloudStorage/OneDrive-diconiumGmbH/Learning/SiratRevival/scholar_data/Allama_Iqbal/1985-Ka-Iqbaliyati-Adab.pdf\", \"/Users/shafique.khan@diconium.com/Library/CloudStorage/OneDrive-diconiumGmbH/Learning/SiratRevival/scholar_data/Allama_Iqbal/extracted_pages3.pdf\", (45, 50))\n"
   ]
  },
  {
   "cell_type": "code",
   "execution_count": 6,
   "id": "51ad01d1",
   "metadata": {},
   "outputs": [
    {
     "name": "stderr",
     "output_type": "stream",
     "text": [
      "Downloading recognition model, please wait. This may take several minutes depending upon your network connection.\n"
     ]
    },
    {
     "name": "stdout",
     "output_type": "stream",
     "text": [
      "Progress: |██████████████████████████████████████████████████| 100.0% Complete"
     ]
    },
    {
     "name": "stderr",
     "output_type": "stream",
     "text": [
      "/opt/miniconda3/envs/pythonDS/lib/python3.10/site-packages/imageio/core/util.py:508: UserWarning: pkg_resources is deprecated as an API. See https://setuptools.pypa.io/en/latest/pkg_resources.html. The pkg_resources package is slated for removal as early as 2025-11-30. Refrain from using this package or pin to Setuptools<81.\n",
      "  import pkg_resources\n"
     ]
    },
    {
     "ename": "OSError",
     "evalue": "Could not find a backend to open `/Users/shafique.khan@diconium.com/Library/CloudStorage/OneDrive-diconiumGmbH/Learning/SiratRevival/scholar_data/Allama_Iqbal/extracted_pages2.pdf`` with iomode `r`.",
     "output_type": "error",
     "traceback": [
      "\u001b[0;31m---------------------------------------------------------------------------\u001b[0m",
      "\u001b[0;31mOSError\u001b[0m                                   Traceback (most recent call last)",
      "Cell \u001b[0;32mIn[6], line 3\u001b[0m\n\u001b[1;32m      1\u001b[0m \u001b[38;5;28;01mimport\u001b[39;00m\u001b[38;5;250m \u001b[39m\u001b[38;5;21;01measyocr\u001b[39;00m\n\u001b[1;32m      2\u001b[0m reader \u001b[38;5;241m=\u001b[39m easyocr\u001b[38;5;241m.\u001b[39mReader([\u001b[38;5;124m\"\u001b[39m\u001b[38;5;124mar\u001b[39m\u001b[38;5;124m\"\u001b[39m,\u001b[38;5;124m\"\u001b[39m\u001b[38;5;124mfa\u001b[39m\u001b[38;5;124m\"\u001b[39m,\u001b[38;5;124m\"\u001b[39m\u001b[38;5;124mur\u001b[39m\u001b[38;5;124m\"\u001b[39m,\u001b[38;5;124m\"\u001b[39m\u001b[38;5;124mug\u001b[39m\u001b[38;5;124m\"\u001b[39m,\u001b[38;5;124m\"\u001b[39m\u001b[38;5;124men\u001b[39m\u001b[38;5;124m\"\u001b[39m])\n\u001b[0;32m----> 3\u001b[0m result \u001b[38;5;241m=\u001b[39m \u001b[43mreader\u001b[49m\u001b[38;5;241;43m.\u001b[39;49m\u001b[43mreadtext\u001b[49m\u001b[43m(\u001b[49m\u001b[38;5;124;43m'\u001b[39;49m\u001b[38;5;124;43m/Users/shafique.khan@diconium.com/Library/CloudStorage/OneDrive-diconiumGmbH/Learning/SiratRevival/scholar_data/Allama_Iqbal/extracted_pages2.pdf\u001b[39;49m\u001b[38;5;124;43m'\u001b[39;49m\u001b[43m,\u001b[49m\u001b[43m \u001b[49m\u001b[43mdetail\u001b[49m\u001b[38;5;241;43m=\u001b[39;49m\u001b[38;5;241;43m0\u001b[39;49m\u001b[43m)\u001b[49m\n\u001b[1;32m      4\u001b[0m \u001b[38;5;28mprint\u001b[39m(\u001b[38;5;124m\"\u001b[39m\u001b[38;5;130;01m\\n\u001b[39;00m\u001b[38;5;124m\"\u001b[39m\u001b[38;5;241m.\u001b[39mjoin(result))\n",
      "File \u001b[0;32m/opt/miniconda3/envs/pythonDS/lib/python3.10/site-packages/easyocr/easyocr.py:454\u001b[0m, in \u001b[0;36mReader.readtext\u001b[0;34m(self, image, decoder, beamWidth, batch_size, workers, allowlist, blocklist, detail, rotation_info, paragraph, min_size, contrast_ths, adjust_contrast, filter_ths, text_threshold, low_text, link_threshold, canvas_size, mag_ratio, slope_ths, ycenter_ths, height_ths, width_ths, y_ths, x_ths, add_margin, threshold, bbox_min_score, bbox_min_size, max_candidates, output_format)\u001b[0m\n\u001b[1;32m    440\u001b[0m \u001b[38;5;28;01mdef\u001b[39;00m\u001b[38;5;250m \u001b[39m\u001b[38;5;21mreadtext\u001b[39m(\u001b[38;5;28mself\u001b[39m, image, decoder \u001b[38;5;241m=\u001b[39m \u001b[38;5;124m'\u001b[39m\u001b[38;5;124mgreedy\u001b[39m\u001b[38;5;124m'\u001b[39m, beamWidth\u001b[38;5;241m=\u001b[39m \u001b[38;5;241m5\u001b[39m, batch_size \u001b[38;5;241m=\u001b[39m \u001b[38;5;241m1\u001b[39m,\\\n\u001b[1;32m    441\u001b[0m              workers \u001b[38;5;241m=\u001b[39m \u001b[38;5;241m0\u001b[39m, allowlist \u001b[38;5;241m=\u001b[39m \u001b[38;5;28;01mNone\u001b[39;00m, blocklist \u001b[38;5;241m=\u001b[39m \u001b[38;5;28;01mNone\u001b[39;00m, detail \u001b[38;5;241m=\u001b[39m \u001b[38;5;241m1\u001b[39m,\\\n\u001b[1;32m    442\u001b[0m              rotation_info \u001b[38;5;241m=\u001b[39m \u001b[38;5;28;01mNone\u001b[39;00m, paragraph \u001b[38;5;241m=\u001b[39m \u001b[38;5;28;01mFalse\u001b[39;00m, min_size \u001b[38;5;241m=\u001b[39m \u001b[38;5;241m20\u001b[39m,\\\n\u001b[0;32m   (...)\u001b[0m\n\u001b[1;32m    448\u001b[0m              threshold \u001b[38;5;241m=\u001b[39m \u001b[38;5;241m0.2\u001b[39m, bbox_min_score \u001b[38;5;241m=\u001b[39m \u001b[38;5;241m0.2\u001b[39m, bbox_min_size \u001b[38;5;241m=\u001b[39m \u001b[38;5;241m3\u001b[39m, max_candidates \u001b[38;5;241m=\u001b[39m \u001b[38;5;241m0\u001b[39m,\n\u001b[1;32m    449\u001b[0m              output_format\u001b[38;5;241m=\u001b[39m\u001b[38;5;124m'\u001b[39m\u001b[38;5;124mstandard\u001b[39m\u001b[38;5;124m'\u001b[39m):\n\u001b[1;32m    450\u001b[0m \u001b[38;5;250m    \u001b[39m\u001b[38;5;124;03m'''\u001b[39;00m\n\u001b[1;32m    451\u001b[0m \u001b[38;5;124;03m    Parameters:\u001b[39;00m\n\u001b[1;32m    452\u001b[0m \u001b[38;5;124;03m    image: file path or numpy-array or a byte stream object\u001b[39;00m\n\u001b[1;32m    453\u001b[0m \u001b[38;5;124;03m    '''\u001b[39;00m\n\u001b[0;32m--> 454\u001b[0m     img, img_cv_grey \u001b[38;5;241m=\u001b[39m \u001b[43mreformat_input\u001b[49m\u001b[43m(\u001b[49m\u001b[43mimage\u001b[49m\u001b[43m)\u001b[49m\n\u001b[1;32m    456\u001b[0m     horizontal_list, free_list \u001b[38;5;241m=\u001b[39m \u001b[38;5;28mself\u001b[39m\u001b[38;5;241m.\u001b[39mdetect(img, \n\u001b[1;32m    457\u001b[0m                                              min_size \u001b[38;5;241m=\u001b[39m min_size, text_threshold \u001b[38;5;241m=\u001b[39m text_threshold,\\\n\u001b[1;32m    458\u001b[0m                                              low_text \u001b[38;5;241m=\u001b[39m low_text, link_threshold \u001b[38;5;241m=\u001b[39m link_threshold,\\\n\u001b[0;32m   (...)\u001b[0m\n\u001b[1;32m    464\u001b[0m                                              bbox_min_size \u001b[38;5;241m=\u001b[39m bbox_min_size, max_candidates \u001b[38;5;241m=\u001b[39m max_candidates\n\u001b[1;32m    465\u001b[0m                                              )\n\u001b[1;32m    466\u001b[0m     \u001b[38;5;66;03m# get the 1st result from hor & free list as self.detect returns a list of depth 3\u001b[39;00m\n",
      "File \u001b[0;32m/opt/miniconda3/envs/pythonDS/lib/python3.10/site-packages/easyocr/utils.py:741\u001b[0m, in \u001b[0;36mreformat_input\u001b[0;34m(image)\u001b[0m\n\u001b[1;32m    739\u001b[0m         img_cv_grey \u001b[38;5;241m=\u001b[39m cv2\u001b[38;5;241m.\u001b[39mimread(image, cv2\u001b[38;5;241m.\u001b[39mIMREAD_GRAYSCALE)\n\u001b[1;32m    740\u001b[0m         image \u001b[38;5;241m=\u001b[39m os\u001b[38;5;241m.\u001b[39mpath\u001b[38;5;241m.\u001b[39mexpanduser(image)\n\u001b[0;32m--> 741\u001b[0m     img \u001b[38;5;241m=\u001b[39m \u001b[43mloadImage\u001b[49m\u001b[43m(\u001b[49m\u001b[43mimage\u001b[49m\u001b[43m)\u001b[49m  \u001b[38;5;66;03m# can accept URL\u001b[39;00m\n\u001b[1;32m    742\u001b[0m \u001b[38;5;28;01melif\u001b[39;00m \u001b[38;5;28mtype\u001b[39m(image) \u001b[38;5;241m==\u001b[39m \u001b[38;5;28mbytes\u001b[39m:\n\u001b[1;32m    743\u001b[0m     nparr \u001b[38;5;241m=\u001b[39m np\u001b[38;5;241m.\u001b[39mfrombuffer(image, np\u001b[38;5;241m.\u001b[39muint8)\n",
      "File \u001b[0;32m/opt/miniconda3/envs/pythonDS/lib/python3.10/site-packages/easyocr/imgproc.py:12\u001b[0m, in \u001b[0;36mloadImage\u001b[0;34m(img_file)\u001b[0m\n\u001b[1;32m     11\u001b[0m \u001b[38;5;28;01mdef\u001b[39;00m\u001b[38;5;250m \u001b[39m\u001b[38;5;21mloadImage\u001b[39m(img_file):\n\u001b[0;32m---> 12\u001b[0m     img \u001b[38;5;241m=\u001b[39m \u001b[43mio\u001b[49m\u001b[38;5;241;43m.\u001b[39;49m\u001b[43mimread\u001b[49m\u001b[43m(\u001b[49m\u001b[43mimg_file\u001b[49m\u001b[43m)\u001b[49m           \u001b[38;5;66;03m# RGB order\u001b[39;00m\n\u001b[1;32m     13\u001b[0m     \u001b[38;5;28;01mif\u001b[39;00m img\u001b[38;5;241m.\u001b[39mshape[\u001b[38;5;241m0\u001b[39m] \u001b[38;5;241m==\u001b[39m \u001b[38;5;241m2\u001b[39m: img \u001b[38;5;241m=\u001b[39m img[\u001b[38;5;241m0\u001b[39m]\n\u001b[1;32m     14\u001b[0m     \u001b[38;5;28;01mif\u001b[39;00m \u001b[38;5;28mlen\u001b[39m(img\u001b[38;5;241m.\u001b[39mshape) \u001b[38;5;241m==\u001b[39m \u001b[38;5;241m2\u001b[39m : img \u001b[38;5;241m=\u001b[39m cv2\u001b[38;5;241m.\u001b[39mcvtColor(img, cv2\u001b[38;5;241m.\u001b[39mCOLOR_GRAY2RGB)\n",
      "File \u001b[0;32m/opt/miniconda3/envs/pythonDS/lib/python3.10/site-packages/skimage/_shared/utils.py:328\u001b[0m, in \u001b[0;36mdeprecate_parameter.__call__.<locals>.fixed_func\u001b[0;34m(*args, **kwargs)\u001b[0m\n\u001b[1;32m    324\u001b[0m     \u001b[38;5;28;01melif\u001b[39;00m \u001b[38;5;28mself\u001b[39m\u001b[38;5;241m.\u001b[39mnew_name \u001b[38;5;129;01mis\u001b[39;00m \u001b[38;5;129;01mnot\u001b[39;00m \u001b[38;5;28;01mNone\u001b[39;00m:\n\u001b[1;32m    325\u001b[0m         \u001b[38;5;66;03m# Assign old value to new one\u001b[39;00m\n\u001b[1;32m    326\u001b[0m         kwargs[\u001b[38;5;28mself\u001b[39m\u001b[38;5;241m.\u001b[39mnew_name] \u001b[38;5;241m=\u001b[39m deprecated_value\n\u001b[0;32m--> 328\u001b[0m \u001b[38;5;28;01mreturn\u001b[39;00m \u001b[43mfunc\u001b[49m\u001b[43m(\u001b[49m\u001b[38;5;241;43m*\u001b[39;49m\u001b[43margs\u001b[49m\u001b[43m,\u001b[49m\u001b[43m \u001b[49m\u001b[38;5;241;43m*\u001b[39;49m\u001b[38;5;241;43m*\u001b[39;49m\u001b[43mkwargs\u001b[49m\u001b[43m)\u001b[49m\n",
      "File \u001b[0;32m/opt/miniconda3/envs/pythonDS/lib/python3.10/site-packages/skimage/io/_io.py:82\u001b[0m, in \u001b[0;36mimread\u001b[0;34m(fname, as_gray, plugin, **plugin_args)\u001b[0m\n\u001b[1;32m     79\u001b[0m         plugin \u001b[38;5;241m=\u001b[39m \u001b[38;5;124m'\u001b[39m\u001b[38;5;124mtifffile\u001b[39m\u001b[38;5;124m'\u001b[39m\n\u001b[1;32m     81\u001b[0m \u001b[38;5;28;01mwith\u001b[39;00m file_or_url_context(fname) \u001b[38;5;28;01mas\u001b[39;00m fname, _hide_plugin_deprecation_warnings():\n\u001b[0;32m---> 82\u001b[0m     img \u001b[38;5;241m=\u001b[39m \u001b[43mcall_plugin\u001b[49m\u001b[43m(\u001b[49m\u001b[38;5;124;43m'\u001b[39;49m\u001b[38;5;124;43mimread\u001b[39;49m\u001b[38;5;124;43m'\u001b[39;49m\u001b[43m,\u001b[49m\u001b[43m \u001b[49m\u001b[43mfname\u001b[49m\u001b[43m,\u001b[49m\u001b[43m \u001b[49m\u001b[43mplugin\u001b[49m\u001b[38;5;241;43m=\u001b[39;49m\u001b[43mplugin\u001b[49m\u001b[43m,\u001b[49m\u001b[43m \u001b[49m\u001b[38;5;241;43m*\u001b[39;49m\u001b[38;5;241;43m*\u001b[39;49m\u001b[43mplugin_args\u001b[49m\u001b[43m)\u001b[49m\n\u001b[1;32m     84\u001b[0m \u001b[38;5;28;01mif\u001b[39;00m \u001b[38;5;129;01mnot\u001b[39;00m \u001b[38;5;28mhasattr\u001b[39m(img, \u001b[38;5;124m'\u001b[39m\u001b[38;5;124mndim\u001b[39m\u001b[38;5;124m'\u001b[39m):\n\u001b[1;32m     85\u001b[0m     \u001b[38;5;28;01mreturn\u001b[39;00m img\n",
      "File \u001b[0;32m/opt/miniconda3/envs/pythonDS/lib/python3.10/site-packages/skimage/_shared/utils.py:538\u001b[0m, in \u001b[0;36mdeprecate_func.__call__.<locals>.wrapped\u001b[0;34m(*args, **kwargs)\u001b[0m\n\u001b[1;32m    536\u001b[0m stacklevel \u001b[38;5;241m=\u001b[39m \u001b[38;5;241m1\u001b[39m \u001b[38;5;241m+\u001b[39m \u001b[38;5;28mself\u001b[39m\u001b[38;5;241m.\u001b[39mget_stack_length(func) \u001b[38;5;241m-\u001b[39m stack_rank\n\u001b[1;32m    537\u001b[0m warnings\u001b[38;5;241m.\u001b[39mwarn(message, category\u001b[38;5;241m=\u001b[39m\u001b[38;5;167;01mFutureWarning\u001b[39;00m, stacklevel\u001b[38;5;241m=\u001b[39mstacklevel)\n\u001b[0;32m--> 538\u001b[0m \u001b[38;5;28;01mreturn\u001b[39;00m \u001b[43mfunc\u001b[49m\u001b[43m(\u001b[49m\u001b[38;5;241;43m*\u001b[39;49m\u001b[43margs\u001b[49m\u001b[43m,\u001b[49m\u001b[43m \u001b[49m\u001b[38;5;241;43m*\u001b[39;49m\u001b[38;5;241;43m*\u001b[39;49m\u001b[43mkwargs\u001b[49m\u001b[43m)\u001b[49m\n",
      "File \u001b[0;32m/opt/miniconda3/envs/pythonDS/lib/python3.10/site-packages/skimage/io/manage_plugins.py:254\u001b[0m, in \u001b[0;36mcall_plugin\u001b[0;34m(kind, *args, **kwargs)\u001b[0m\n\u001b[1;32m    251\u001b[0m     \u001b[38;5;28;01mexcept\u001b[39;00m \u001b[38;5;167;01mIndexError\u001b[39;00m:\n\u001b[1;32m    252\u001b[0m         \u001b[38;5;28;01mraise\u001b[39;00m \u001b[38;5;167;01mRuntimeError\u001b[39;00m(\u001b[38;5;124mf\u001b[39m\u001b[38;5;124m'\u001b[39m\u001b[38;5;124mCould not find the plugin \u001b[39m\u001b[38;5;124m\"\u001b[39m\u001b[38;5;132;01m{\u001b[39;00mplugin\u001b[38;5;132;01m}\u001b[39;00m\u001b[38;5;124m\"\u001b[39m\u001b[38;5;124m for \u001b[39m\u001b[38;5;132;01m{\u001b[39;00mkind\u001b[38;5;132;01m}\u001b[39;00m\u001b[38;5;124m.\u001b[39m\u001b[38;5;124m'\u001b[39m)\n\u001b[0;32m--> 254\u001b[0m \u001b[38;5;28;01mreturn\u001b[39;00m \u001b[43mfunc\u001b[49m\u001b[43m(\u001b[49m\u001b[38;5;241;43m*\u001b[39;49m\u001b[43margs\u001b[49m\u001b[43m,\u001b[49m\u001b[43m \u001b[49m\u001b[38;5;241;43m*\u001b[39;49m\u001b[38;5;241;43m*\u001b[39;49m\u001b[43mkwargs\u001b[49m\u001b[43m)\u001b[49m\n",
      "File \u001b[0;32m/opt/miniconda3/envs/pythonDS/lib/python3.10/site-packages/skimage/io/_plugins/imageio_plugin.py:11\u001b[0m, in \u001b[0;36mimread\u001b[0;34m(*args, **kwargs)\u001b[0m\n\u001b[1;32m      9\u001b[0m \u001b[38;5;129m@wraps\u001b[39m(imageio_imread)\n\u001b[1;32m     10\u001b[0m \u001b[38;5;28;01mdef\u001b[39;00m\u001b[38;5;250m \u001b[39m\u001b[38;5;21mimread\u001b[39m(\u001b[38;5;241m*\u001b[39margs, \u001b[38;5;241m*\u001b[39m\u001b[38;5;241m*\u001b[39mkwargs):\n\u001b[0;32m---> 11\u001b[0m     out \u001b[38;5;241m=\u001b[39m np\u001b[38;5;241m.\u001b[39masarray(\u001b[43mimageio_imread\u001b[49m\u001b[43m(\u001b[49m\u001b[38;5;241;43m*\u001b[39;49m\u001b[43margs\u001b[49m\u001b[43m,\u001b[49m\u001b[43m \u001b[49m\u001b[38;5;241;43m*\u001b[39;49m\u001b[38;5;241;43m*\u001b[39;49m\u001b[43mkwargs\u001b[49m\u001b[43m)\u001b[49m)\n\u001b[1;32m     12\u001b[0m     \u001b[38;5;28;01mif\u001b[39;00m \u001b[38;5;129;01mnot\u001b[39;00m out\u001b[38;5;241m.\u001b[39mflags[\u001b[38;5;124m'\u001b[39m\u001b[38;5;124mWRITEABLE\u001b[39m\u001b[38;5;124m'\u001b[39m]:\n\u001b[1;32m     13\u001b[0m         out \u001b[38;5;241m=\u001b[39m out\u001b[38;5;241m.\u001b[39mcopy()\n",
      "File \u001b[0;32m/opt/miniconda3/envs/pythonDS/lib/python3.10/site-packages/imageio/v3.py:53\u001b[0m, in \u001b[0;36mimread\u001b[0;34m(uri, index, plugin, extension, format_hint, **kwargs)\u001b[0m\n\u001b[1;32m     50\u001b[0m \u001b[38;5;28;01mif\u001b[39;00m index \u001b[38;5;129;01mis\u001b[39;00m \u001b[38;5;129;01mnot\u001b[39;00m \u001b[38;5;28;01mNone\u001b[39;00m:\n\u001b[1;32m     51\u001b[0m     call_kwargs[\u001b[38;5;124m\"\u001b[39m\u001b[38;5;124mindex\u001b[39m\u001b[38;5;124m\"\u001b[39m] \u001b[38;5;241m=\u001b[39m index\n\u001b[0;32m---> 53\u001b[0m \u001b[38;5;28;01mwith\u001b[39;00m \u001b[43mimopen\u001b[49m\u001b[43m(\u001b[49m\u001b[43muri\u001b[49m\u001b[43m,\u001b[49m\u001b[43m \u001b[49m\u001b[38;5;124;43m\"\u001b[39;49m\u001b[38;5;124;43mr\u001b[39;49m\u001b[38;5;124;43m\"\u001b[39;49m\u001b[43m,\u001b[49m\u001b[43m \u001b[49m\u001b[38;5;241;43m*\u001b[39;49m\u001b[38;5;241;43m*\u001b[39;49m\u001b[43mplugin_kwargs\u001b[49m\u001b[43m)\u001b[49m \u001b[38;5;28;01mas\u001b[39;00m img_file:\n\u001b[1;32m     54\u001b[0m     \u001b[38;5;28;01mreturn\u001b[39;00m np\u001b[38;5;241m.\u001b[39masarray(img_file\u001b[38;5;241m.\u001b[39mread(\u001b[38;5;241m*\u001b[39m\u001b[38;5;241m*\u001b[39mcall_kwargs))\n",
      "File \u001b[0;32m/opt/miniconda3/envs/pythonDS/lib/python3.10/site-packages/imageio/core/imopen.py:281\u001b[0m, in \u001b[0;36mimopen\u001b[0;34m(uri, io_mode, plugin, extension, format_hint, legacy_mode, **kwargs)\u001b[0m\n\u001b[1;32m    275\u001b[0m         err_msg \u001b[38;5;241m+\u001b[39m\u001b[38;5;241m=\u001b[39m (\n\u001b[1;32m    276\u001b[0m             \u001b[38;5;124m\"\u001b[39m\u001b[38;5;130;01m\\n\u001b[39;00m\u001b[38;5;124mBased on the extension, the following plugins might add capable backends:\u001b[39m\u001b[38;5;130;01m\\n\u001b[39;00m\u001b[38;5;124m\"\u001b[39m\n\u001b[1;32m    277\u001b[0m             \u001b[38;5;124mf\u001b[39m\u001b[38;5;124m\"\u001b[39m\u001b[38;5;132;01m{\u001b[39;00minstall_candidates\u001b[38;5;132;01m}\u001b[39;00m\u001b[38;5;124m\"\u001b[39m\n\u001b[1;32m    278\u001b[0m         )\n\u001b[1;32m    280\u001b[0m request\u001b[38;5;241m.\u001b[39mfinish()\n\u001b[0;32m--> 281\u001b[0m \u001b[38;5;28;01mraise\u001b[39;00m err_type(err_msg)\n",
      "\u001b[0;31mOSError\u001b[0m: Could not find a backend to open `/Users/shafique.khan@diconium.com/Library/CloudStorage/OneDrive-diconiumGmbH/Learning/SiratRevival/scholar_data/Allama_Iqbal/extracted_pages2.pdf`` with iomode `r`."
     ]
    }
   ],
   "source": [
    "import easyocr\n",
    "reader = easyocr.Reader([\"ar\",\"fa\",\"ur\",\"ug\",\"en\"])\n",
    "result = reader.readtext('/Users/shafique.khan@diconium.com/Library/CloudStorage/OneDrive-diconiumGmbH/Learning/SiratRevival/scholar_data/Allama_Iqbal/extracted_pages2.pdf', detail=0)\n",
    "print(\"\\n\".join(result))\n"
   ]
  },
  {
   "cell_type": "code",
   "execution_count": null,
   "id": "d0264953",
   "metadata": {},
   "outputs": [],
   "source": [
    "from pdf2image import convert_from_path\n",
    "import pytesseract\n",
    "\n",
    "images = convert_from_path(\"/Users/shafique.khan@diconium.com/Library/CloudStorage/OneDrive-diconiumGmbH/Learning/SiratRevival/scholar_data/Allama_Iqbal/extracted_pages2.pdf\")\n",
    "for i, img in enumerate(images):\n",
    "    text = pytesseract.image_to_string(img, lang='eng+urd+ara+hin+deu+spa+por+chi_sim+jpn')\n",
    "    with open(f\"text_page_{i+1}.txt\", \"w\", encoding=\"utf-8\") as f:\n",
    "        f.write(text)\n"
   ]
  },
  {
   "cell_type": "code",
   "execution_count": 10,
   "id": "d4e74f56",
   "metadata": {},
   "outputs": [
    {
     "name": "stdout",
     "output_type": "stream",
     "text": [
      "Processing page 1...\n"
     ]
    },
    {
     "name": "stderr",
     "output_type": "stream",
     "text": [
      "/opt/miniconda3/envs/pythonDS/lib/python3.10/site-packages/torch/utils/data/dataloader.py:683: UserWarning: 'pin_memory' argument is set as true but not supported on MPS now, then device pinned memory won't be used.\n",
      "  warnings.warn(warn_msg)\n"
     ]
    },
    {
     "name": "stdout",
     "output_type": "stream",
     "text": [
      "Processing page 2...\n"
     ]
    },
    {
     "name": "stderr",
     "output_type": "stream",
     "text": [
      "/opt/miniconda3/envs/pythonDS/lib/python3.10/site-packages/torch/utils/data/dataloader.py:683: UserWarning: 'pin_memory' argument is set as true but not supported on MPS now, then device pinned memory won't be used.\n",
      "  warnings.warn(warn_msg)\n"
     ]
    },
    {
     "name": "stdout",
     "output_type": "stream",
     "text": [
      "Processing page 3...\n"
     ]
    },
    {
     "name": "stderr",
     "output_type": "stream",
     "text": [
      "/opt/miniconda3/envs/pythonDS/lib/python3.10/site-packages/torch/utils/data/dataloader.py:683: UserWarning: 'pin_memory' argument is set as true but not supported on MPS now, then device pinned memory won't be used.\n",
      "  warnings.warn(warn_msg)\n"
     ]
    },
    {
     "name": "stdout",
     "output_type": "stream",
     "text": [
      "Processing page 4...\n"
     ]
    },
    {
     "name": "stderr",
     "output_type": "stream",
     "text": [
      "/opt/miniconda3/envs/pythonDS/lib/python3.10/site-packages/torch/utils/data/dataloader.py:683: UserWarning: 'pin_memory' argument is set as true but not supported on MPS now, then device pinned memory won't be used.\n",
      "  warnings.warn(warn_msg)\n"
     ]
    },
    {
     "name": "stdout",
     "output_type": "stream",
     "text": [
      "Processing page 5...\n"
     ]
    },
    {
     "name": "stderr",
     "output_type": "stream",
     "text": [
      "/opt/miniconda3/envs/pythonDS/lib/python3.10/site-packages/torch/utils/data/dataloader.py:683: UserWarning: 'pin_memory' argument is set as true but not supported on MPS now, then device pinned memory won't be used.\n",
      "  warnings.warn(warn_msg)\n"
     ]
    },
    {
     "name": "stdout",
     "output_type": "stream",
     "text": [
      "Processing page 6...\n"
     ]
    },
    {
     "name": "stderr",
     "output_type": "stream",
     "text": [
      "/opt/miniconda3/envs/pythonDS/lib/python3.10/site-packages/torch/utils/data/dataloader.py:683: UserWarning: 'pin_memory' argument is set as true but not supported on MPS now, then device pinned memory won't be used.\n",
      "  warnings.warn(warn_msg)\n"
     ]
    }
   ],
   "source": [
    "import easyocr\n",
    "from pdf2image import convert_from_path\n",
    "import os\n",
    "\n",
    "# Path to your PDF\n",
    "pdf_path = \"/Users/shafique.khan@diconium.com/Library/CloudStorage/OneDrive-diconiumGmbH/Learning/SiratRevival/scholar_data/Allama_Iqbal/extracted_pages3.pdf\"\n",
    "\n",
    "# Folder to save images\n",
    "output_folder = \"pdf_pages\"\n",
    "os.makedirs(output_folder, exist_ok=True)\n",
    "\n",
    "# Convert PDF to images\n",
    "images = convert_from_path(pdf_path)\n",
    "\n",
    "# Initialize EasyOCR reader\n",
    "reader = easyocr.Reader([\"fa\",\"ur\",\"ug\",\"en\"],gpu=True)\n",
    "\n",
    "# Process each page image\n",
    "for i, img in enumerate(images):\n",
    "    img_path = os.path.join(output_folder, f\"page_{i+1}.png\")\n",
    "    img.save(img_path, \"PNG\")\n",
    "    \n",
    "    print(f\"Processing page {i+1}...\")\n",
    "    result = reader.readtext(img_path, detail=0)\n",
    "    \n",
    "    with open(f\"ocr_page_{i+10}.txt\", \"w\", encoding=\"utf-8\") as f:\n",
    "        f.write(\"\\n\".join(result))\n"
   ]
  },
  {
   "cell_type": "code",
   "execution_count": 2,
   "id": "78ad2d94",
   "metadata": {},
   "outputs": [
    {
     "name": "stdout",
     "output_type": "stream",
     "text": [
      "[]\n"
     ]
    }
   ],
   "source": [
    "from selenium import webdriver\n",
    "from selenium.webdriver.chrome.options import Options\n",
    "from bs4 import BeautifulSoup\n",
    "import time\n",
    "\n",
    "options = Options()\n",
    "options.add_argument(\"--headless\")\n",
    "\n",
    "driver = webdriver.Chrome(options=options)\n",
    "driver.get(\"https://archive.org/search?query=Mufti+Taqi+Usmani\")\n",
    "\n",
    "time.sleep(5)  # wait for JS to load content\n",
    "\n",
    "html = driver.page_source\n",
    "soup = BeautifulSoup(html, \"html.parser\")\n",
    "\n",
    "articles = soup.find_all(\"article\", class_=\"cell-container\")\n",
    "print(articles)\n",
    "for article in articles:\n",
    "    # parse the article content here\n",
    "    print(article.text)\n",
    "\n",
    "driver.quit()\n"
   ]
  },
  {
   "cell_type": "code",
   "execution_count": 4,
   "id": "8c5bb720",
   "metadata": {},
   "outputs": [
    {
     "name": "stdout",
     "output_type": "stream",
     "text": [
      "{'responseHeader': {'status': 0, 'QTime': 45, 'params': {'query': 'creator:Mufti (((title:Taqi OR salients:Taqi OR subject:Taqi OR description:Taqi OR collection:Taqi OR language:Taqi OR text:Taqi)(title:Usmani OR salients:Usmani OR subject:Usmani OR description:Usmani OR collection:Usmani OR language:Usmani OR text:Usmani)) OR (title:&quot;Taqi Usmani&quot; OR salients:&quot;Taqi Usmani&quot; OR description:&quot;Taqi Usmani&quot; OR subject:&quot;Taqi Usmani&quot; OR language:&quot;Taqi Usmani&quot; OR text:&quot;Taqi Usmani&quot;))', 'qin': 'creator:Mufti Taqi Usmani', 'fields': 'identifier,title,description,date', 'wt': 'json', 'rows': 50, 'start': 0}}, 'response': {'numFound': 409, 'start': 0, 'docs': [{'description': 'WWW.ATTABLIG.COM', 'identifier': 'TafseerSurahAsr-ViitableeghFarzEKifayaKabHai', 'title': 'Tafseer Surah Asr - VII (Tableegh Farz e Kifaya Kab Hai)'}, {'description': 'www.attablig.com', 'identifier': '2013-07-05RasulullahSawKeKhutbaERamadanKiTashreehAurUskaPeghaam_183', 'title': '2013-07-05 Rasulullah SAW Ke Khutba e Ramadan Ki Tashreeh Aur Uska Peghaam'}, {'description': '2019-06-14-Darse-of-mishkat-D.U.Bury-www.attablig.com', 'identifier': '2019-06-14-Darse-of-mishkat-D.U.Bury-www.attablig.com', 'title': '2019-06-14-Darse-of-mishkat-D.U.Bury-www.attablig.com'}, {'description': 'www.attablig.com', 'identifier': '2012-01-20TafseerSurahAadiyaat-VnaShukriChoroShukarGuzarBano', 'title': '2012-01-20 Tafseer Surah Aadiyaat - V (Na Shukri Choro Shukar Guzar Bano)'}, {'description': 'www.attablig.com', 'identifier': '2012-04-27TafseerSurahZilzaal-VkisiGunahKoChotaMatSamjho', 'title': '2012-04-27 Tafseer Surah Zilzaal - V (Kisi Gunah Ko Chota Mat Samjho)'}, {'description': 'ISLAHI', 'identifier': 'GunahgarSayNafratMatKijiyayByShaykhMuftiTaqiUsmani', 'title': 'Gunahgar Say Nafrat Mat Kijiyay By Shaykh Mufti Taqi Usmani'}, {'date': '2013-05-30T00:00:00Z', 'description': \"Israa wa Ma'raaj Nabi Sallallahu 'alahi wassalam by Maulana Mufti Muhammad Shafi Sahib, rahmatullah 'alaihi, Ma'aariful Qur'an, translated in English by Muhammad Shamim, revised by Maulana Muhammad Taqi Usmani. Page prepared for easy reading and retrieval for research prepared by Muhammad Umar Chand\", 'identifier': 'TheNarrationOfIsraaMaraajSurahBaniIsraelVerse1MaulanaMuhammadShafiMaarifulQuran', 'title': 'The Narration Of Israa Maraaj Surah Bani Israel Verse 1 Maulana Muhammad Shafi Maariful Quran'}, {'description': 'ISLAHI, KHUTBAAT', 'identifier': 'IslahiMajalis-7Volumes-ByShaykhMuftiMuhammadTaqiUsmani', 'title': 'Islahi Majalis - 7 Volumes - By Shaykh Mufti Muhammad Taqi Usmani'}, {'identifier': 'TaraasheyByMuftiTaqiUsmani', 'title': 'Taraashey'}, {'description': 'ISLAHI', 'identifier': 'WaldainKiKhidmatJannatKaZariyaByShaykhMuftiTaqiUsmani', 'title': 'Waldain Ki Khidmat, Jannat Ka Zariya By Shaykh Mufti Taqi Usmani'}, {'description': 'FIQH', 'identifier': 'TaqleedKiShariHaisiyatByShaykhMuftiTaqiUsmani', 'title': 'Taqleed Ki Shari Haisiyat By Shaykh Mufti Taqi Usmani'}, {'date': '2023-01-28T00:00:00Z', 'description': 'The Authorty Of Sunnah', 'identifier': 'the-authorty-of-sunnah', 'title': 'The Authorty Of Sunnah'}, {'description': 'DUA', 'identifier': 'RadiantPrayersByShaykhMuftiTaqiUsmani', 'title': 'Radiant Prayers By Shaykh Mufti Taqi Usmani'}, {'description': 'SEERAT -E- AKABIR', 'identifier': 'MayrayWalidMayrayShaykhByShaykhMuftiTaqiUsmani', 'title': 'Mayray Walid Mayray Shaykh By Shaykh Mufti Taqi Usmani'}, {'description': 'ISLAMIC FINANCE', 'identifier': 'IslamAurJadeedMaeeshat-o-TijaratByShaykhMuftiTaqiUsmani', 'title': 'Islam Aur Jadeed Maeeshat -o- Tijarat By Shaykh Mufti Taqi Usmani'}, {'description': 'ISLAMIC FINANCE', 'identifier': 'IslamAurJadeedMuashiMasail-Volumes1-4-ByShaykhMuftiMuhammadTaqi', 'title': 'Islam Aur Jadeed Muashi Masail - Volumes 1 - 4 - By Shaykh Mufti Muhammad Taqi Usmani'}, {'description': 'ISLAMIC FINANCE', 'identifier': 'IslamiBankariByShaykhMuftiTaqiUsmani', 'title': 'Islami Bankari By Shaykh Mufti Taqi Usmani'}, {'description': 'Mufti Taqi Usmani on ethical considerations for Muslims while dealing with modern medicine.', 'identifier': '20230715_20230715_2044', 'title': 'طویل بیماری میں علاج کی شرعی حیثیت تقی عثمانی'}, {'description': 'www.attablig.com', 'identifier': 'MuharramUlHaramKiFazeelatAurBidaat', 'title': 'Muharram Ul Haram Ki Fazeelat Aur Bidaat'}, {'description': 'www.attablig.com', 'identifier': '2012-08-15SabarAnilMaaseyyat', 'title': '2012-08-15 Sabar anil maaseyyat'}, {'description': 'www.attablig.com', 'identifier': '2012-08-05SabarAurSabitQadami', 'title': '2012-08-05 Sabar aur sabit qadami'}, {'description': 'Aasaan Tarjuma Quran – Volume 3 – By Shaykh Mufti Taqi Usmani.pdf', 'identifier': 'AasaanTarjumaQuran-Volume3-ByShaykhMuftiTaqiUsmani', 'title': 'Aasaan Tarjuma Quran – Volume 3 – By Shaykh Mufti Taqi Usmani'}, {'description': 'ISLAHI', 'identifier': 'DuniyaSayDilNaLagaoByShaykhMuftiTaqiUsmani', 'title': 'Duniya Say Dil Na Lagao By Shaykh Mufti Taqi Usmani'}, {'date': '2010-07-01T00:00:00Z', 'description': 'THE MEANINGS OF THE NOBLE QURAN(editable/searchable) extracted using adobe acrobat. you can search/highligh and comment on the text.', 'identifier': 'the-meanings-of-the-noble-quran', 'title': 'THE MEANINGS OF THE NOBLE QURAN(editable/searchable)'}, {'date': '2018-12-14T00:00:00Z', 'description': 'Darood Wa Salam Aur Shan E Khair Ul Anam By Dr Ghulam Sarwar Qadri/ درود وسلام اور شان خیر الانام از دکتور غلام سرور قادری رح', 'identifier': 'DaroodWaSalamAurShanEKhairUlAnamByDrGhulamSarwarQadri', 'title': 'Darood Wa Salam Aur Shan E Khair Ul Anam By Dr Ghulam Sarwar Qadri/ درود وسلام اور شان خیر الانام از دکتور غلام سرور قادری رح'}, {'description': 'www.attablig.com', 'identifier': '2011-11-14WorldIslamicFinanceSummit', 'title': '2011-11-14 World Islamic Finance Summit'}, {'description': 'www.attablig.com', 'identifier': 'TafseerSurahQaariyah-IiiaamaalMainWazanKesePaidaKiyaJae', 'title': 'Tafseer Surah Qaariyah - III (Aamaal Main Wazan Kese Paida Kiya Jae)'}, {'description': 'ISLAHI', 'identifier': 'JhootAurUssKiMurawwajaSoorataynByShaykhMuftiTaqiUsmani_295', 'title': 'Jhoot Aur Uss Ki Murawwaja Sooratayn By Shaykh Mufti Taqi Usmani'}, {'description': 'www.attablig.com', 'identifier': '2013-07-28KhosooAurKhozooKaMatlab', 'title': '2013-07-28 Khosoo Aur Khozoo Ka Matlab'}, {'description': 'www.attablig.com', 'identifier': '2012-05-06MujahidaAurMuhasabahKaDawamBanaLe', 'title': '2012-05-06 Mujahida aur Muhasabah ka dawam bana le'}, {'description': 'www.attablig.com', 'identifier': '2016-12-09-Taaziyati-bayan-on-Junaid-jamshed-ra-www.attablig.com', 'title': '2016-12-09-Taaziyati-bayan-on-Junaid-jamshed-ra-www.attablig.com'}, {'description': 'Bidat Aik Ghumrahi by Mufti taqi usmani sahib.pdf', 'identifier': 'BidatAikGhumrahiByMuftiTaqiUsmaniSahib', 'title': 'Bidat Aik Ghumrahi By Mufti Taqi Usmani Sahib'}, {'description': 'www.attablig.com', 'identifier': '2012-03-09TafseerSurahZilzaal-IqayamatKaZalzalaAurMaalKiHaysiyat', 'title': '2012-03-09 Tafseer Surah Zilzaal - I (Qayamat Ka Zalzala Aur Maal Ki Haysiyat)'}, {'description': 'www.attablig.com', 'identifier': '2012-08-14AdayeHaqooqAurHifzEHududKiHifazatMeSabar', 'title': '2012-08-14 Adaye Haqooq aur Hifz e Hudud ki Hifazat me Sabar'}, {'description': 'www.attablig.com', 'identifier': '2013-02-10IbaadatMaqsadHeLazzatMaqsadNahi', 'title': '2013-02-10 Ibaadat maqsad he Lazzat maqsad nahi'}, {'description': 'Quran', 'identifier': 'AasanTarjumaQuranTauzeehUlQuranByShaykhMuftiTaqiUsmani', 'title': 'Aasan Tarjuma Quran Tauzeeh Ul Quran By Shaykh Mufti Taqi Usmani'}, {'description': 'www.attablig.com', 'identifier': '2012-06-01TafseerSurahBayyinah-IdeenKay3BunyadiAqaid-TaubaPe', 'title': '2012-06-01 Tafseer Surah Bayyinah - I (Deen Kay 3 Bunyadi Aqaid - Tauba Pe Rehmat Ka Nuzool)'}, {'description': 'WWW.ATTABLIG.COM', 'identifier': 'DuniyaKiBesabatiTaqwaKiAalamatHe03-07-2011', 'title': 'Duniya ki besabati Taqwa ki Aalamat he 03-07-2011'}, {'description': 'Dunya Mayray Aagay By Shaykh Mufti Taqi Usmani.pdf', 'identifier': 'DunyaMayrayAagayByShaykhMuftiTaqiUsmani', 'title': 'Dunya Mayray Aagay By Shaykh Mufti Taqi Usmani'}, {'date': '2007-12-16T00:00:00Z', 'description': 'آسان ترجمہ قرآن تشریحات کے ساتھ جلد اول، جلد دوم، جلد سوم یکجا از مفتی محمد تقی عثمانی مکتبہ معارف القرآن کراچی Aasan Tarjuma e Quran Hazrat Mufti Muhammad Taqi Usmani sahib damatbarkatahum Volume 1, 2 & 3', 'identifier': '20210104_20210104_1331', 'title': 'آسان ترجمہ قرآن ۔ مکمل تینوں جلدیں'}, {'description': 'www.attablig.com', 'identifier': 'MiladCelebrations', 'title': 'Milad Celebrations'}, {'description': 'ISLAHI', 'identifier': 'DiscoursesOnIslamicWaysOfLife-ByShaykhMuftiTaqiUsmani', 'title': 'Discourses on Islamic Ways of Life - By Shaykh Mufti Taqi Usmani'}, {'description': 'Urdu Translation Of The Holy Quran', 'identifier': 'AasanTarjumaQuran_157', 'title': 'AasanTarjumaQuran'}, {'description': 'Qadiyani', 'identifier': 'QadiyaniFitnahAurMillat-e-IslamiaKaMoaqqafByShaykhMuftiTaqiUsmani', 'title': 'Qadiyani Fitnah Aur Millat -e- Islamia Ka Moaqqaf By Shaykh Mufti Taqi Usmani & Shaykh Sami -ul- Haq'}, {'description': 'www.attablig.com', 'identifier': '2012-05-27TakabburKeAqsaamAurUlaaj-1', 'title': '2012-05-27 Takabbur ke Aqsaam aur ulaaj - 1'}, {'description': 'www.attablig.com', 'identifier': '2012-08-16DawatOTablighKaDairahEKaar', 'title': '2012-08-16 Dawat O Tabligh ka Dairah e kaar.'}, {'description': 'www.attablig.com', 'identifier': 'SehatOrUmarKoZakheerayEAakheratBanaye', 'title': 'Sehat or Umar ko zakheeray e Aakherat banaye'}, {'description': 'www.attablig.com', 'identifier': '2011-10-16TaubahAurEstaighfarQurbEKhudawndiKaZeenahHai', 'title': '2011-10-16 Taubah aur Estaighfar Qurb e Khudawndi ka zeenah hai'}, {'date': '2014-12-21T00:00:00Z', 'description': 'Islamic Months: by Shaikh Mufti Taqi Usmani', 'identifier': 'IslamicMonthsBySheikhMuftiTaqiUsmani', 'title': 'Islamic Months By Sheikh Mufti Taqi Usmani'}, {'description': 'MUTAFARRIQ', 'identifier': 'Nifaaz-e-shariatAurUssKayMasailByShaykhMuftiTaqiUsmani', 'title': 'Nifaaz -e-Shariat Aur Uss Kay Masail By Shaykh Mufti Taqi Usmani'}]}}\n",
      "Title: Tafseer Surah Asr - VII (Tableegh Farz e Kifaya Kab Hai)\n",
      "Identifier: TafseerSurahAsr-ViitableeghFarzEKifayaKabHai\n",
      "Date: None\n",
      "Description: WWW.ATTABLIG.COM\n",
      "\n",
      "Title: 2013-07-05 Rasulullah SAW Ke Khutba e Ramadan Ki Tashreeh Aur Uska Peghaam\n",
      "Identifier: 2013-07-05RasulullahSawKeKhutbaERamadanKiTashreehAurUskaPeghaam_183\n",
      "Date: None\n",
      "Description: www.attablig.com\n",
      "\n",
      "Title: 2019-06-14-Darse-of-mishkat-D.U.Bury-www.attablig.com\n",
      "Identifier: 2019-06-14-Darse-of-mishkat-D.U.Bury-www.attablig.com\n",
      "Date: None\n",
      "Description: 2019-06-14-Darse-of-mishkat-D.U.Bury-www.attablig.com\n",
      "\n",
      "Title: 2012-01-20 Tafseer Surah Aadiyaat - V (Na Shukri Choro Shukar Guzar Bano)\n",
      "Identifier: 2012-01-20TafseerSurahAadiyaat-VnaShukriChoroShukarGuzarBano\n",
      "Date: None\n",
      "Description: www.attablig.com\n",
      "\n",
      "Title: 2012-04-27 Tafseer Surah Zilzaal - V (Kisi Gunah Ko Chota Mat Samjho)\n",
      "Identifier: 2012-04-27TafseerSurahZilzaal-VkisiGunahKoChotaMatSamjho\n",
      "Date: None\n",
      "Description: www.attablig.com\n",
      "\n",
      "Title: Gunahgar Say Nafrat Mat Kijiyay By Shaykh Mufti Taqi Usmani\n",
      "Identifier: GunahgarSayNafratMatKijiyayByShaykhMuftiTaqiUsmani\n",
      "Date: None\n",
      "Description: ISLAHI\n",
      "\n",
      "Title: The Narration Of Israa Maraaj Surah Bani Israel Verse 1 Maulana Muhammad Shafi Maariful Quran\n",
      "Identifier: TheNarrationOfIsraaMaraajSurahBaniIsraelVerse1MaulanaMuhammadShafiMaarifulQuran\n",
      "Date: 2013-05-30T00:00:00Z\n",
      "Description: Israa wa Ma'raaj Nabi Sallallahu 'alahi wassalam by Maulana Mufti Muhammad Shafi Sahib, rahmatullah 'alaihi, Ma'aariful Qur'an, translated in English by Muhammad Shamim, revised by Maulana Muhammad Taqi Usmani. Page prepared for easy reading and retrieval for research prepared by Muhammad Umar Chand\n",
      "\n",
      "Title: Islahi Majalis - 7 Volumes - By Shaykh Mufti Muhammad Taqi Usmani\n",
      "Identifier: IslahiMajalis-7Volumes-ByShaykhMuftiMuhammadTaqiUsmani\n",
      "Date: None\n",
      "Description: ISLAHI, KHUTBAAT\n",
      "\n",
      "Title: Taraashey\n",
      "Identifier: TaraasheyByMuftiTaqiUsmani\n",
      "Date: None\n",
      "Description: None\n",
      "\n",
      "Title: Waldain Ki Khidmat, Jannat Ka Zariya By Shaykh Mufti Taqi Usmani\n",
      "Identifier: WaldainKiKhidmatJannatKaZariyaByShaykhMuftiTaqiUsmani\n",
      "Date: None\n",
      "Description: ISLAHI\n",
      "\n",
      "Title: Taqleed Ki Shari Haisiyat By Shaykh Mufti Taqi Usmani\n",
      "Identifier: TaqleedKiShariHaisiyatByShaykhMuftiTaqiUsmani\n",
      "Date: None\n",
      "Description: FIQH\n",
      "\n",
      "Title: The Authorty Of Sunnah\n",
      "Identifier: the-authorty-of-sunnah\n",
      "Date: 2023-01-28T00:00:00Z\n",
      "Description: The Authorty Of Sunnah\n",
      "\n",
      "Title: Radiant Prayers By Shaykh Mufti Taqi Usmani\n",
      "Identifier: RadiantPrayersByShaykhMuftiTaqiUsmani\n",
      "Date: None\n",
      "Description: DUA\n",
      "\n",
      "Title: Mayray Walid Mayray Shaykh By Shaykh Mufti Taqi Usmani\n",
      "Identifier: MayrayWalidMayrayShaykhByShaykhMuftiTaqiUsmani\n",
      "Date: None\n",
      "Description: SEERAT -E- AKABIR\n",
      "\n",
      "Title: Islam Aur Jadeed Maeeshat -o- Tijarat By Shaykh Mufti Taqi Usmani\n",
      "Identifier: IslamAurJadeedMaeeshat-o-TijaratByShaykhMuftiTaqiUsmani\n",
      "Date: None\n",
      "Description: ISLAMIC FINANCE\n",
      "\n",
      "Title: Islam Aur Jadeed Muashi Masail - Volumes 1 - 4 - By Shaykh Mufti Muhammad Taqi Usmani\n",
      "Identifier: IslamAurJadeedMuashiMasail-Volumes1-4-ByShaykhMuftiMuhammadTaqi\n",
      "Date: None\n",
      "Description: ISLAMIC FINANCE\n",
      "\n",
      "Title: Islami Bankari By Shaykh Mufti Taqi Usmani\n",
      "Identifier: IslamiBankariByShaykhMuftiTaqiUsmani\n",
      "Date: None\n",
      "Description: ISLAMIC FINANCE\n",
      "\n",
      "Title: طویل بیماری میں علاج کی شرعی حیثیت تقی عثمانی\n",
      "Identifier: 20230715_20230715_2044\n",
      "Date: None\n",
      "Description: Mufti Taqi Usmani on ethical considerations for Muslims while dealing with modern medicine.\n",
      "\n",
      "Title: Muharram Ul Haram Ki Fazeelat Aur Bidaat\n",
      "Identifier: MuharramUlHaramKiFazeelatAurBidaat\n",
      "Date: None\n",
      "Description: www.attablig.com\n",
      "\n",
      "Title: 2012-08-15 Sabar anil maaseyyat\n",
      "Identifier: 2012-08-15SabarAnilMaaseyyat\n",
      "Date: None\n",
      "Description: www.attablig.com\n",
      "\n",
      "Title: 2012-08-05 Sabar aur sabit qadami\n",
      "Identifier: 2012-08-05SabarAurSabitQadami\n",
      "Date: None\n",
      "Description: www.attablig.com\n",
      "\n",
      "Title: Aasaan Tarjuma Quran – Volume 3 – By Shaykh Mufti Taqi Usmani\n",
      "Identifier: AasaanTarjumaQuran-Volume3-ByShaykhMuftiTaqiUsmani\n",
      "Date: None\n",
      "Description: Aasaan Tarjuma Quran – Volume 3 – By Shaykh Mufti Taqi Usmani.pdf\n",
      "\n",
      "Title: Duniya Say Dil Na Lagao By Shaykh Mufti Taqi Usmani\n",
      "Identifier: DuniyaSayDilNaLagaoByShaykhMuftiTaqiUsmani\n",
      "Date: None\n",
      "Description: ISLAHI\n",
      "\n",
      "Title: THE MEANINGS OF THE NOBLE QURAN(editable/searchable)\n",
      "Identifier: the-meanings-of-the-noble-quran\n",
      "Date: 2010-07-01T00:00:00Z\n",
      "Description: THE MEANINGS OF THE NOBLE QURAN(editable/searchable) extracted using adobe acrobat. you can search/highligh and comment on the text.\n",
      "\n",
      "Title: Darood Wa Salam Aur Shan E Khair Ul Anam By Dr Ghulam Sarwar Qadri/ درود وسلام اور شان خیر الانام از دکتور غلام سرور قادری رح\n",
      "Identifier: DaroodWaSalamAurShanEKhairUlAnamByDrGhulamSarwarQadri\n",
      "Date: 2018-12-14T00:00:00Z\n",
      "Description: Darood Wa Salam Aur Shan E Khair Ul Anam By Dr Ghulam Sarwar Qadri/ درود وسلام اور شان خیر الانام از دکتور غلام سرور قادری رح\n",
      "\n",
      "Title: 2011-11-14 World Islamic Finance Summit\n",
      "Identifier: 2011-11-14WorldIslamicFinanceSummit\n",
      "Date: None\n",
      "Description: www.attablig.com\n",
      "\n",
      "Title: Tafseer Surah Qaariyah - III (Aamaal Main Wazan Kese Paida Kiya Jae)\n",
      "Identifier: TafseerSurahQaariyah-IiiaamaalMainWazanKesePaidaKiyaJae\n",
      "Date: None\n",
      "Description: www.attablig.com\n",
      "\n",
      "Title: Jhoot Aur Uss Ki Murawwaja Sooratayn By Shaykh Mufti Taqi Usmani\n",
      "Identifier: JhootAurUssKiMurawwajaSoorataynByShaykhMuftiTaqiUsmani_295\n",
      "Date: None\n",
      "Description: ISLAHI\n",
      "\n",
      "Title: 2013-07-28 Khosoo Aur Khozoo Ka Matlab\n",
      "Identifier: 2013-07-28KhosooAurKhozooKaMatlab\n",
      "Date: None\n",
      "Description: www.attablig.com\n",
      "\n",
      "Title: 2012-05-06 Mujahida aur Muhasabah ka dawam bana le\n",
      "Identifier: 2012-05-06MujahidaAurMuhasabahKaDawamBanaLe\n",
      "Date: None\n",
      "Description: www.attablig.com\n",
      "\n",
      "Title: 2016-12-09-Taaziyati-bayan-on-Junaid-jamshed-ra-www.attablig.com\n",
      "Identifier: 2016-12-09-Taaziyati-bayan-on-Junaid-jamshed-ra-www.attablig.com\n",
      "Date: None\n",
      "Description: www.attablig.com\n",
      "\n",
      "Title: Bidat Aik Ghumrahi By Mufti Taqi Usmani Sahib\n",
      "Identifier: BidatAikGhumrahiByMuftiTaqiUsmaniSahib\n",
      "Date: None\n",
      "Description: Bidat Aik Ghumrahi by Mufti taqi usmani sahib.pdf\n",
      "\n",
      "Title: 2012-03-09 Tafseer Surah Zilzaal - I (Qayamat Ka Zalzala Aur Maal Ki Haysiyat)\n",
      "Identifier: 2012-03-09TafseerSurahZilzaal-IqayamatKaZalzalaAurMaalKiHaysiyat\n",
      "Date: None\n",
      "Description: www.attablig.com\n",
      "\n",
      "Title: 2012-08-14 Adaye Haqooq aur Hifz e Hudud ki Hifazat me Sabar\n",
      "Identifier: 2012-08-14AdayeHaqooqAurHifzEHududKiHifazatMeSabar\n",
      "Date: None\n",
      "Description: www.attablig.com\n",
      "\n",
      "Title: 2013-02-10 Ibaadat maqsad he Lazzat maqsad nahi\n",
      "Identifier: 2013-02-10IbaadatMaqsadHeLazzatMaqsadNahi\n",
      "Date: None\n",
      "Description: www.attablig.com\n",
      "\n",
      "Title: Aasan Tarjuma Quran Tauzeeh Ul Quran By Shaykh Mufti Taqi Usmani\n",
      "Identifier: AasanTarjumaQuranTauzeehUlQuranByShaykhMuftiTaqiUsmani\n",
      "Date: None\n",
      "Description: Quran\n",
      "\n",
      "Title: 2012-06-01 Tafseer Surah Bayyinah - I (Deen Kay 3 Bunyadi Aqaid - Tauba Pe Rehmat Ka Nuzool)\n",
      "Identifier: 2012-06-01TafseerSurahBayyinah-IdeenKay3BunyadiAqaid-TaubaPe\n",
      "Date: None\n",
      "Description: www.attablig.com\n",
      "\n",
      "Title: Duniya ki besabati Taqwa ki Aalamat he 03-07-2011\n",
      "Identifier: DuniyaKiBesabatiTaqwaKiAalamatHe03-07-2011\n",
      "Date: None\n",
      "Description: WWW.ATTABLIG.COM\n",
      "\n",
      "Title: Dunya Mayray Aagay By Shaykh Mufti Taqi Usmani\n",
      "Identifier: DunyaMayrayAagayByShaykhMuftiTaqiUsmani\n",
      "Date: None\n",
      "Description: Dunya Mayray Aagay By Shaykh Mufti Taqi Usmani.pdf\n",
      "\n",
      "Title: آسان ترجمہ قرآن ۔ مکمل تینوں جلدیں\n",
      "Identifier: 20210104_20210104_1331\n",
      "Date: 2007-12-16T00:00:00Z\n",
      "Description: آسان ترجمہ قرآن تشریحات کے ساتھ جلد اول، جلد دوم، جلد سوم یکجا از مفتی محمد تقی عثمانی مکتبہ معارف القرآن کراچی Aasan Tarjuma e Quran Hazrat Mufti Muhammad Taqi Usmani sahib damatbarkatahum Volume 1, 2 & 3\n",
      "\n",
      "Title: Milad Celebrations\n",
      "Identifier: MiladCelebrations\n",
      "Date: None\n",
      "Description: www.attablig.com\n",
      "\n",
      "Title: Discourses on Islamic Ways of Life - By Shaykh Mufti Taqi Usmani\n",
      "Identifier: DiscoursesOnIslamicWaysOfLife-ByShaykhMuftiTaqiUsmani\n",
      "Date: None\n",
      "Description: ISLAHI\n",
      "\n",
      "Title: AasanTarjumaQuran\n",
      "Identifier: AasanTarjumaQuran_157\n",
      "Date: None\n",
      "Description: Urdu Translation Of The Holy Quran\n",
      "\n",
      "Title: Qadiyani Fitnah Aur Millat -e- Islamia Ka Moaqqaf By Shaykh Mufti Taqi Usmani & Shaykh Sami -ul- Haq\n",
      "Identifier: QadiyaniFitnahAurMillat-e-IslamiaKaMoaqqafByShaykhMuftiTaqiUsmani\n",
      "Date: None\n",
      "Description: Qadiyani\n",
      "\n",
      "Title: 2012-05-27 Takabbur ke Aqsaam aur ulaaj - 1\n",
      "Identifier: 2012-05-27TakabburKeAqsaamAurUlaaj-1\n",
      "Date: None\n",
      "Description: www.attablig.com\n",
      "\n",
      "Title: 2012-08-16 Dawat O Tabligh ka Dairah e kaar.\n",
      "Identifier: 2012-08-16DawatOTablighKaDairahEKaar\n",
      "Date: None\n",
      "Description: www.attablig.com\n",
      "\n",
      "Title: Sehat or Umar ko zakheeray e Aakherat banaye\n",
      "Identifier: SehatOrUmarKoZakheerayEAakheratBanaye\n",
      "Date: None\n",
      "Description: www.attablig.com\n",
      "\n",
      "Title: 2011-10-16 Taubah aur Estaighfar Qurb e Khudawndi ka zeenah hai\n",
      "Identifier: 2011-10-16TaubahAurEstaighfarQurbEKhudawndiKaZeenahHai\n",
      "Date: None\n",
      "Description: www.attablig.com\n",
      "\n",
      "Title: Islamic Months By Sheikh Mufti Taqi Usmani\n",
      "Identifier: IslamicMonthsBySheikhMuftiTaqiUsmani\n",
      "Date: 2014-12-21T00:00:00Z\n",
      "Description: Islamic Months: by Shaikh Mufti Taqi Usmani\n",
      "\n",
      "Title: Nifaaz -e-Shariat Aur Uss Kay Masail By Shaykh Mufti Taqi Usmani\n",
      "Identifier: Nifaaz-e-shariatAurUssKayMasailByShaykhMuftiTaqiUsmani\n",
      "Date: None\n",
      "Description: MUTAFARRIQ\n",
      "\n"
     ]
    }
   ],
   "source": [
    "import requests\n",
    "\n",
    "url = \"https://archive.org/advancedsearch.php\"\n",
    "params = {\n",
    "    \"q\": \"creator:Mufti Taqi Usmani\",\n",
    "    \"fl[]\": [\"identifier\", \"title\", \"description\", \"date\"],\n",
    "    \"output\": \"json\",\n",
    "    \"rows\": 50,\n",
    "    \"page\": 1\n",
    "}\n",
    "\n",
    "response = requests.get(url, params=params)\n",
    "data = response.json()\n",
    "\n",
    "print(data)\n",
    "\n",
    "docs = data.get(\"response\", {}).get(\"docs\", [])\n",
    "for doc in docs:\n",
    "    print(f\"Title: {doc.get('title')}\")\n",
    "    print(f\"Identifier: {doc.get('identifier')}\")\n",
    "    print(f\"Date: {doc.get('date')}\")\n",
    "    print(f\"Description: {doc.get('description')}\\n\")\n"
   ]
  },
  {
   "cell_type": "code",
   "execution_count": null,
   "id": "00b32fc2",
   "metadata": {},
   "outputs": [
    {
     "ename": "NoSuchDriverException",
     "evalue": "Message: Unable to obtain driver for chrome; For documentation on this error, please visit: https://www.selenium.dev/documentation/webdriver/troubleshooting/errors/driver_location\n",
     "output_type": "error",
     "traceback": [
      "\u001b[0;31m---------------------------------------------------------------------------\u001b[0m",
      "\u001b[0;31mValueError\u001b[0m                                Traceback (most recent call last)",
      "File \u001b[0;32m/opt/miniconda3/envs/pythonDS/lib/python3.10/site-packages/selenium/webdriver/common/driver_finder.py:64\u001b[0m, in \u001b[0;36mDriverFinder._binary_paths\u001b[0;34m(self)\u001b[0m\n\u001b[1;32m     63\u001b[0m \u001b[38;5;28;01mif\u001b[39;00m \u001b[38;5;129;01mnot\u001b[39;00m Path(path)\u001b[38;5;241m.\u001b[39mis_file():\n\u001b[0;32m---> 64\u001b[0m     \u001b[38;5;28;01mraise\u001b[39;00m \u001b[38;5;167;01mValueError\u001b[39;00m(\u001b[38;5;124mf\u001b[39m\u001b[38;5;124m\"\u001b[39m\u001b[38;5;124mThe path is not a valid file: \u001b[39m\u001b[38;5;132;01m{\u001b[39;00mpath\u001b[38;5;132;01m}\u001b[39;00m\u001b[38;5;124m\"\u001b[39m)\n\u001b[1;32m     65\u001b[0m \u001b[38;5;28mself\u001b[39m\u001b[38;5;241m.\u001b[39m_paths[\u001b[38;5;124m\"\u001b[39m\u001b[38;5;124mdriver_path\u001b[39m\u001b[38;5;124m\"\u001b[39m] \u001b[38;5;241m=\u001b[39m path\n",
      "\u001b[0;31mValueError\u001b[0m: The path is not a valid file: /path/to/chromedriver",
      "\nThe above exception was the direct cause of the following exception:\n",
      "\u001b[0;31mNoSuchDriverException\u001b[0m                     Traceback (most recent call last)",
      "Cell \u001b[0;32mIn[5], line 52\u001b[0m\n\u001b[1;32m     49\u001b[0m         driver\u001b[38;5;241m.\u001b[39mquit()\n\u001b[1;32m     51\u001b[0m \u001b[38;5;28;01mif\u001b[39;00m \u001b[38;5;18m__name__\u001b[39m \u001b[38;5;241m==\u001b[39m \u001b[38;5;124m\"\u001b[39m\u001b[38;5;124m__main__\u001b[39m\u001b[38;5;124m\"\u001b[39m:\n\u001b[0;32m---> 52\u001b[0m     items \u001b[38;5;241m=\u001b[39m \u001b[43mscrape_archive\u001b[49m\u001b[43m(\u001b[49m\u001b[43m)\u001b[49m\n\u001b[1;32m     53\u001b[0m     \u001b[38;5;28;01mfor\u001b[39;00m item \u001b[38;5;129;01min\u001b[39;00m items:\n\u001b[1;32m     54\u001b[0m         \u001b[38;5;28mprint\u001b[39m(item)\n",
      "Cell \u001b[0;32mIn[5], line 18\u001b[0m, in \u001b[0;36mscrape_archive\u001b[0;34m()\u001b[0m\n\u001b[1;32m     15\u001b[0m \u001b[38;5;66;03m# Path to chromedriver, adjust if needed\u001b[39;00m\n\u001b[1;32m     16\u001b[0m service \u001b[38;5;241m=\u001b[39m Service(\u001b[38;5;124m'\u001b[39m\u001b[38;5;124m/path/to/chromedriver\u001b[39m\u001b[38;5;124m'\u001b[39m)  \n\u001b[0;32m---> 18\u001b[0m driver \u001b[38;5;241m=\u001b[39m \u001b[43mwebdriver\u001b[49m\u001b[38;5;241;43m.\u001b[39;49m\u001b[43mChrome\u001b[49m\u001b[43m(\u001b[49m\u001b[43mservice\u001b[49m\u001b[38;5;241;43m=\u001b[39;49m\u001b[43mservice\u001b[49m\u001b[43m,\u001b[49m\u001b[43m \u001b[49m\u001b[43moptions\u001b[49m\u001b[38;5;241;43m=\u001b[39;49m\u001b[43mchrome_options\u001b[49m\u001b[43m)\u001b[49m\n\u001b[1;32m     19\u001b[0m driver\u001b[38;5;241m.\u001b[39mget(\u001b[38;5;124m\"\u001b[39m\u001b[38;5;124mhttps://archive.org/search?query=Mufti+Taqi+Usmani\u001b[39m\u001b[38;5;124m\"\u001b[39m)\n\u001b[1;32m     21\u001b[0m \u001b[38;5;28;01mtry\u001b[39;00m:\n\u001b[1;32m     22\u001b[0m     \u001b[38;5;66;03m# Wait until at least one article with class 'cell-container' is visible\u001b[39;00m\n",
      "File \u001b[0;32m/opt/miniconda3/envs/pythonDS/lib/python3.10/site-packages/selenium/webdriver/chrome/webdriver.py:47\u001b[0m, in \u001b[0;36mWebDriver.__init__\u001b[0;34m(self, options, service, keep_alive)\u001b[0m\n\u001b[1;32m     44\u001b[0m service \u001b[38;5;241m=\u001b[39m service \u001b[38;5;28;01mif\u001b[39;00m service \u001b[38;5;28;01melse\u001b[39;00m Service()\n\u001b[1;32m     45\u001b[0m options \u001b[38;5;241m=\u001b[39m options \u001b[38;5;28;01mif\u001b[39;00m options \u001b[38;5;28;01melse\u001b[39;00m Options()\n\u001b[0;32m---> 47\u001b[0m \u001b[38;5;28;43msuper\u001b[39;49m\u001b[43m(\u001b[49m\u001b[43m)\u001b[49m\u001b[38;5;241;43m.\u001b[39;49m\u001b[38;5;21;43m__init__\u001b[39;49m\u001b[43m(\u001b[49m\n\u001b[1;32m     48\u001b[0m \u001b[43m    \u001b[49m\u001b[43mbrowser_name\u001b[49m\u001b[38;5;241;43m=\u001b[39;49m\u001b[43mDesiredCapabilities\u001b[49m\u001b[38;5;241;43m.\u001b[39;49m\u001b[43mCHROME\u001b[49m\u001b[43m[\u001b[49m\u001b[38;5;124;43m\"\u001b[39;49m\u001b[38;5;124;43mbrowserName\u001b[39;49m\u001b[38;5;124;43m\"\u001b[39;49m\u001b[43m]\u001b[49m\u001b[43m,\u001b[49m\n\u001b[1;32m     49\u001b[0m \u001b[43m    \u001b[49m\u001b[43mvendor_prefix\u001b[49m\u001b[38;5;241;43m=\u001b[39;49m\u001b[38;5;124;43m\"\u001b[39;49m\u001b[38;5;124;43mgoog\u001b[39;49m\u001b[38;5;124;43m\"\u001b[39;49m\u001b[43m,\u001b[49m\n\u001b[1;32m     50\u001b[0m \u001b[43m    \u001b[49m\u001b[43moptions\u001b[49m\u001b[38;5;241;43m=\u001b[39;49m\u001b[43moptions\u001b[49m\u001b[43m,\u001b[49m\n\u001b[1;32m     51\u001b[0m \u001b[43m    \u001b[49m\u001b[43mservice\u001b[49m\u001b[38;5;241;43m=\u001b[39;49m\u001b[43mservice\u001b[49m\u001b[43m,\u001b[49m\n\u001b[1;32m     52\u001b[0m \u001b[43m    \u001b[49m\u001b[43mkeep_alive\u001b[49m\u001b[38;5;241;43m=\u001b[39;49m\u001b[43mkeep_alive\u001b[49m\u001b[43m,\u001b[49m\n\u001b[1;32m     53\u001b[0m \u001b[43m\u001b[49m\u001b[43m)\u001b[49m\n",
      "File \u001b[0;32m/opt/miniconda3/envs/pythonDS/lib/python3.10/site-packages/selenium/webdriver/chromium/webdriver.py:53\u001b[0m, in \u001b[0;36mChromiumDriver.__init__\u001b[0;34m(self, browser_name, vendor_prefix, options, service, keep_alive)\u001b[0m\n\u001b[1;32m     50\u001b[0m \u001b[38;5;28mself\u001b[39m\u001b[38;5;241m.\u001b[39mservice \u001b[38;5;241m=\u001b[39m service\n\u001b[1;32m     52\u001b[0m finder \u001b[38;5;241m=\u001b[39m DriverFinder(\u001b[38;5;28mself\u001b[39m\u001b[38;5;241m.\u001b[39mservice, options)\n\u001b[0;32m---> 53\u001b[0m \u001b[38;5;28;01mif\u001b[39;00m \u001b[43mfinder\u001b[49m\u001b[38;5;241;43m.\u001b[39;49m\u001b[43mget_browser_path\u001b[49m\u001b[43m(\u001b[49m\u001b[43m)\u001b[49m:\n\u001b[1;32m     54\u001b[0m     options\u001b[38;5;241m.\u001b[39mbinary_location \u001b[38;5;241m=\u001b[39m finder\u001b[38;5;241m.\u001b[39mget_browser_path()\n\u001b[1;32m     55\u001b[0m     options\u001b[38;5;241m.\u001b[39mbrowser_version \u001b[38;5;241m=\u001b[39m \u001b[38;5;28;01mNone\u001b[39;00m\n",
      "File \u001b[0;32m/opt/miniconda3/envs/pythonDS/lib/python3.10/site-packages/selenium/webdriver/common/driver_finder.py:47\u001b[0m, in \u001b[0;36mDriverFinder.get_browser_path\u001b[0;34m(self)\u001b[0m\n\u001b[1;32m     46\u001b[0m \u001b[38;5;28;01mdef\u001b[39;00m\u001b[38;5;250m \u001b[39m\u001b[38;5;21mget_browser_path\u001b[39m(\u001b[38;5;28mself\u001b[39m) \u001b[38;5;241m-\u001b[39m\u001b[38;5;241m>\u001b[39m \u001b[38;5;28mstr\u001b[39m:\n\u001b[0;32m---> 47\u001b[0m     \u001b[38;5;28;01mreturn\u001b[39;00m \u001b[38;5;28;43mself\u001b[39;49m\u001b[38;5;241;43m.\u001b[39;49m\u001b[43m_binary_paths\u001b[49m\u001b[43m(\u001b[49m\u001b[43m)\u001b[49m[\u001b[38;5;124m\"\u001b[39m\u001b[38;5;124mbrowser_path\u001b[39m\u001b[38;5;124m\"\u001b[39m]\n",
      "File \u001b[0;32m/opt/miniconda3/envs/pythonDS/lib/python3.10/site-packages/selenium/webdriver/common/driver_finder.py:78\u001b[0m, in \u001b[0;36mDriverFinder._binary_paths\u001b[0;34m(self)\u001b[0m\n\u001b[1;32m     76\u001b[0m \u001b[38;5;28;01mexcept\u001b[39;00m \u001b[38;5;167;01mException\u001b[39;00m \u001b[38;5;28;01mas\u001b[39;00m err:\n\u001b[1;32m     77\u001b[0m     msg \u001b[38;5;241m=\u001b[39m \u001b[38;5;124mf\u001b[39m\u001b[38;5;124m\"\u001b[39m\u001b[38;5;124mUnable to obtain driver for \u001b[39m\u001b[38;5;132;01m{\u001b[39;00mbrowser\u001b[38;5;132;01m}\u001b[39;00m\u001b[38;5;124m\"\u001b[39m\n\u001b[0;32m---> 78\u001b[0m     \u001b[38;5;28;01mraise\u001b[39;00m NoSuchDriverException(msg) \u001b[38;5;28;01mfrom\u001b[39;00m\u001b[38;5;250m \u001b[39m\u001b[38;5;21;01merr\u001b[39;00m\n\u001b[1;32m     79\u001b[0m \u001b[38;5;28;01mreturn\u001b[39;00m \u001b[38;5;28mself\u001b[39m\u001b[38;5;241m.\u001b[39m_paths\n",
      "\u001b[0;31mNoSuchDriverException\u001b[0m: Message: Unable to obtain driver for chrome; For documentation on this error, please visit: https://www.selenium.dev/documentation/webdriver/troubleshooting/errors/driver_location\n"
     ]
    }
   ],
   "source": []
  },
  {
   "cell_type": "code",
   "execution_count": null,
   "id": "da6ecef7",
   "metadata": {},
   "outputs": [],
   "source": []
  }
 ],
 "metadata": {
  "kernelspec": {
   "display_name": "pythonDS",
   "language": "python",
   "name": "python3"
  },
  "language_info": {
   "codemirror_mode": {
    "name": "ipython",
    "version": 3
   },
   "file_extension": ".py",
   "mimetype": "text/x-python",
   "name": "python",
   "nbconvert_exporter": "python",
   "pygments_lexer": "ipython3",
   "version": "3.10.16"
  }
 },
 "nbformat": 4,
 "nbformat_minor": 5
}
